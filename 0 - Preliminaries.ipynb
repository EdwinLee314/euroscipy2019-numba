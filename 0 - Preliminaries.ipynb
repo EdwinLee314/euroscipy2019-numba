{
 "cells": [
  {
   "cell_type": "markdown",
   "metadata": {},
   "source": [
    "# Create CUDA kernels from Python using Numba and CuPy \n",
    "# EuroSciPy 2019"
   ]
  },
  {
   "cell_type": "markdown",
   "metadata": {},
   "source": [
    "## whoami\n",
    "* Valentin Haenel\n",
    "* Employed by Anaconda Inc. since 01 March 2019\n",
    "* Working on Numba\n",
    "* Twitter: [@esc___](https://twitter.com/esc___)"
   ]
  },
  {
   "cell_type": "markdown",
   "metadata": {},
   "source": [
    "## help\n",
    "* Please ask questions!\n",
    "* You can use Gitter.im to talk about the tutorial:  https://gitter.im/numba/euroscipy2019-numba\n",
    "* Github repository of the notebooks can be found at: https://github.com/numba/euroscipy2019-numba"
   ]
  },
  {
   "cell_type": "markdown",
   "metadata": {},
   "source": [
    "## where\n",
    "* You should be able to access the material at https://numba.dezentral.xyz\n",
    "* (If this doesn't work, ask me for further instructions)\n",
    "* This will bring you to a JupyterHub instance with installed materials and a single K80 GPU\n",
    "* Please don't submit any personal information to these systems\n",
    "* The systems will be destroyed afterwards, so download anything you want to keep\n",
    "* You can login using the credentials provided"
   ]
  }
 ],
 "metadata": {
  "kernelspec": {
   "display_name": "Python 3",
   "language": "python",
   "name": "python3"
  },
  "language_info": {
   "codemirror_mode": {
    "name": "ipython",
    "version": 3
   },
   "file_extension": ".py",
   "mimetype": "text/x-python",
   "name": "python",
   "nbconvert_exporter": "python",
   "pygments_lexer": "ipython3",
   "version": "3.7.4"
  }
 },
 "nbformat": 4,
 "nbformat_minor": 2
}
